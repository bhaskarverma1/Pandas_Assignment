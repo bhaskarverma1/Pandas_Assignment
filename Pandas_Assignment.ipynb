{
  "cells": [
    {
      "cell_type": "markdown",
      "id": "9b4db2fd",
      "metadata": {
        "id": "9b4db2fd"
      },
      "source": [
        "# Pandas Practice Notebook\n",
        "Dear Students this notebook will help you practice Important Pandas operations step-by-step.\n"
      ]
    },
    {
      "cell_type": "markdown",
      "id": "48c112e5",
      "metadata": {
        "id": "48c112e5"
      },
      "source": [
        "## 1. File Import using Pandas\n",
        "Below are some examples to import files in Pandas and practice questions."
      ]
    },
    {
      "cell_type": "code",
      "execution_count": null,
      "id": "866ca894",
      "metadata": {
        "id": "866ca894",
        "outputId": "5f0acffe-edbe-4bd7-e759-c5e5a6967d7e",
        "colab": {
          "base_uri": "https://localhost:8080/",
          "height": 373
        }
      },
      "outputs": [
        {
          "output_type": "error",
          "ename": "FileNotFoundError",
          "evalue": "[Errno 2] No such file or directory: 'data.csv'",
          "traceback": [
            "\u001b[0;31m---------------------------------------------------------------------------\u001b[0m",
            "\u001b[0;31mFileNotFoundError\u001b[0m                         Traceback (most recent call last)",
            "\u001b[0;32m/tmp/ipython-input-1573966363.py\u001b[0m in \u001b[0;36m<cell line: 0>\u001b[0;34m()\u001b[0m\n\u001b[1;32m      3\u001b[0m \u001b[0;34m\u001b[0m\u001b[0m\n\u001b[1;32m      4\u001b[0m \u001b[0;31m# Read CSV\u001b[0m\u001b[0;34m\u001b[0m\u001b[0;34m\u001b[0m\u001b[0m\n\u001b[0;32m----> 5\u001b[0;31m \u001b[0mdf_csv\u001b[0m \u001b[0;34m=\u001b[0m \u001b[0mpd\u001b[0m\u001b[0;34m.\u001b[0m\u001b[0mread_csv\u001b[0m\u001b[0;34m(\u001b[0m\u001b[0;34m'data.csv'\u001b[0m\u001b[0;34m)\u001b[0m\u001b[0;34m\u001b[0m\u001b[0;34m\u001b[0m\u001b[0m\n\u001b[0m\u001b[1;32m      6\u001b[0m \u001b[0;34m\u001b[0m\u001b[0m\n\u001b[1;32m      7\u001b[0m \u001b[0;31m# Read Excel\u001b[0m\u001b[0;34m\u001b[0m\u001b[0;34m\u001b[0m\u001b[0m\n",
            "\u001b[0;32m/usr/local/lib/python3.12/dist-packages/pandas/io/parsers/readers.py\u001b[0m in \u001b[0;36mread_csv\u001b[0;34m(filepath_or_buffer, sep, delimiter, header, names, index_col, usecols, dtype, engine, converters, true_values, false_values, skipinitialspace, skiprows, skipfooter, nrows, na_values, keep_default_na, na_filter, verbose, skip_blank_lines, parse_dates, infer_datetime_format, keep_date_col, date_parser, date_format, dayfirst, cache_dates, iterator, chunksize, compression, thousands, decimal, lineterminator, quotechar, quoting, doublequote, escapechar, comment, encoding, encoding_errors, dialect, on_bad_lines, delim_whitespace, low_memory, memory_map, float_precision, storage_options, dtype_backend)\u001b[0m\n\u001b[1;32m   1024\u001b[0m     \u001b[0mkwds\u001b[0m\u001b[0;34m.\u001b[0m\u001b[0mupdate\u001b[0m\u001b[0;34m(\u001b[0m\u001b[0mkwds_defaults\u001b[0m\u001b[0;34m)\u001b[0m\u001b[0;34m\u001b[0m\u001b[0;34m\u001b[0m\u001b[0m\n\u001b[1;32m   1025\u001b[0m \u001b[0;34m\u001b[0m\u001b[0m\n\u001b[0;32m-> 1026\u001b[0;31m     \u001b[0;32mreturn\u001b[0m \u001b[0m_read\u001b[0m\u001b[0;34m(\u001b[0m\u001b[0mfilepath_or_buffer\u001b[0m\u001b[0;34m,\u001b[0m \u001b[0mkwds\u001b[0m\u001b[0;34m)\u001b[0m\u001b[0;34m\u001b[0m\u001b[0;34m\u001b[0m\u001b[0m\n\u001b[0m\u001b[1;32m   1027\u001b[0m \u001b[0;34m\u001b[0m\u001b[0m\n\u001b[1;32m   1028\u001b[0m \u001b[0;34m\u001b[0m\u001b[0m\n",
            "\u001b[0;32m/usr/local/lib/python3.12/dist-packages/pandas/io/parsers/readers.py\u001b[0m in \u001b[0;36m_read\u001b[0;34m(filepath_or_buffer, kwds)\u001b[0m\n\u001b[1;32m    618\u001b[0m \u001b[0;34m\u001b[0m\u001b[0m\n\u001b[1;32m    619\u001b[0m     \u001b[0;31m# Create the parser.\u001b[0m\u001b[0;34m\u001b[0m\u001b[0;34m\u001b[0m\u001b[0m\n\u001b[0;32m--> 620\u001b[0;31m     \u001b[0mparser\u001b[0m \u001b[0;34m=\u001b[0m \u001b[0mTextFileReader\u001b[0m\u001b[0;34m(\u001b[0m\u001b[0mfilepath_or_buffer\u001b[0m\u001b[0;34m,\u001b[0m \u001b[0;34m**\u001b[0m\u001b[0mkwds\u001b[0m\u001b[0;34m)\u001b[0m\u001b[0;34m\u001b[0m\u001b[0;34m\u001b[0m\u001b[0m\n\u001b[0m\u001b[1;32m    621\u001b[0m \u001b[0;34m\u001b[0m\u001b[0m\n\u001b[1;32m    622\u001b[0m     \u001b[0;32mif\u001b[0m \u001b[0mchunksize\u001b[0m \u001b[0;32mor\u001b[0m \u001b[0miterator\u001b[0m\u001b[0;34m:\u001b[0m\u001b[0;34m\u001b[0m\u001b[0;34m\u001b[0m\u001b[0m\n",
            "\u001b[0;32m/usr/local/lib/python3.12/dist-packages/pandas/io/parsers/readers.py\u001b[0m in \u001b[0;36m__init__\u001b[0;34m(self, f, engine, **kwds)\u001b[0m\n\u001b[1;32m   1618\u001b[0m \u001b[0;34m\u001b[0m\u001b[0m\n\u001b[1;32m   1619\u001b[0m         \u001b[0mself\u001b[0m\u001b[0;34m.\u001b[0m\u001b[0mhandles\u001b[0m\u001b[0;34m:\u001b[0m \u001b[0mIOHandles\u001b[0m \u001b[0;34m|\u001b[0m \u001b[0;32mNone\u001b[0m \u001b[0;34m=\u001b[0m \u001b[0;32mNone\u001b[0m\u001b[0;34m\u001b[0m\u001b[0;34m\u001b[0m\u001b[0m\n\u001b[0;32m-> 1620\u001b[0;31m         \u001b[0mself\u001b[0m\u001b[0;34m.\u001b[0m\u001b[0m_engine\u001b[0m \u001b[0;34m=\u001b[0m \u001b[0mself\u001b[0m\u001b[0;34m.\u001b[0m\u001b[0m_make_engine\u001b[0m\u001b[0;34m(\u001b[0m\u001b[0mf\u001b[0m\u001b[0;34m,\u001b[0m \u001b[0mself\u001b[0m\u001b[0;34m.\u001b[0m\u001b[0mengine\u001b[0m\u001b[0;34m)\u001b[0m\u001b[0;34m\u001b[0m\u001b[0;34m\u001b[0m\u001b[0m\n\u001b[0m\u001b[1;32m   1621\u001b[0m \u001b[0;34m\u001b[0m\u001b[0m\n\u001b[1;32m   1622\u001b[0m     \u001b[0;32mdef\u001b[0m \u001b[0mclose\u001b[0m\u001b[0;34m(\u001b[0m\u001b[0mself\u001b[0m\u001b[0;34m)\u001b[0m \u001b[0;34m->\u001b[0m \u001b[0;32mNone\u001b[0m\u001b[0;34m:\u001b[0m\u001b[0;34m\u001b[0m\u001b[0;34m\u001b[0m\u001b[0m\n",
            "\u001b[0;32m/usr/local/lib/python3.12/dist-packages/pandas/io/parsers/readers.py\u001b[0m in \u001b[0;36m_make_engine\u001b[0;34m(self, f, engine)\u001b[0m\n\u001b[1;32m   1878\u001b[0m                 \u001b[0;32mif\u001b[0m \u001b[0;34m\"b\"\u001b[0m \u001b[0;32mnot\u001b[0m \u001b[0;32min\u001b[0m \u001b[0mmode\u001b[0m\u001b[0;34m:\u001b[0m\u001b[0;34m\u001b[0m\u001b[0;34m\u001b[0m\u001b[0m\n\u001b[1;32m   1879\u001b[0m                     \u001b[0mmode\u001b[0m \u001b[0;34m+=\u001b[0m \u001b[0;34m\"b\"\u001b[0m\u001b[0;34m\u001b[0m\u001b[0;34m\u001b[0m\u001b[0m\n\u001b[0;32m-> 1880\u001b[0;31m             self.handles = get_handle(\n\u001b[0m\u001b[1;32m   1881\u001b[0m                 \u001b[0mf\u001b[0m\u001b[0;34m,\u001b[0m\u001b[0;34m\u001b[0m\u001b[0;34m\u001b[0m\u001b[0m\n\u001b[1;32m   1882\u001b[0m                 \u001b[0mmode\u001b[0m\u001b[0;34m,\u001b[0m\u001b[0;34m\u001b[0m\u001b[0;34m\u001b[0m\u001b[0m\n",
            "\u001b[0;32m/usr/local/lib/python3.12/dist-packages/pandas/io/common.py\u001b[0m in \u001b[0;36mget_handle\u001b[0;34m(path_or_buf, mode, encoding, compression, memory_map, is_text, errors, storage_options)\u001b[0m\n\u001b[1;32m    871\u001b[0m         \u001b[0;32mif\u001b[0m \u001b[0mioargs\u001b[0m\u001b[0;34m.\u001b[0m\u001b[0mencoding\u001b[0m \u001b[0;32mand\u001b[0m \u001b[0;34m\"b\"\u001b[0m \u001b[0;32mnot\u001b[0m \u001b[0;32min\u001b[0m \u001b[0mioargs\u001b[0m\u001b[0;34m.\u001b[0m\u001b[0mmode\u001b[0m\u001b[0;34m:\u001b[0m\u001b[0;34m\u001b[0m\u001b[0;34m\u001b[0m\u001b[0m\n\u001b[1;32m    872\u001b[0m             \u001b[0;31m# Encoding\u001b[0m\u001b[0;34m\u001b[0m\u001b[0;34m\u001b[0m\u001b[0m\n\u001b[0;32m--> 873\u001b[0;31m             handle = open(\n\u001b[0m\u001b[1;32m    874\u001b[0m                 \u001b[0mhandle\u001b[0m\u001b[0;34m,\u001b[0m\u001b[0;34m\u001b[0m\u001b[0;34m\u001b[0m\u001b[0m\n\u001b[1;32m    875\u001b[0m                 \u001b[0mioargs\u001b[0m\u001b[0;34m.\u001b[0m\u001b[0mmode\u001b[0m\u001b[0;34m,\u001b[0m\u001b[0;34m\u001b[0m\u001b[0;34m\u001b[0m\u001b[0m\n",
            "\u001b[0;31mFileNotFoundError\u001b[0m: [Errno 2] No such file or directory: 'data.csv'"
          ]
        }
      ],
      "source": [
        "# Example: Importing CSV, Excel, and JSON files\n",
        "import pandas as pd\n",
        "\n",
        "# Read CSV\n",
        "df_csv = pd.read_csv('data.csv')\n",
        "\n",
        "# Read Excel\n",
        "df_excel = pd.read_excel('data.xlsx')\n",
        "\n",
        "# Read JSON\n",
        "df_json = pd.read_json('data.json')"
      ]
    },
    {
      "cell_type": "markdown",
      "id": "057ad770",
      "metadata": {
        "id": "057ad770"
      },
      "source": [
        "### Practice Questions\n",
        "1. Import the file `sales.csv` and display the first 5 rows.\n",
        "2. Import the Excel file `students.xlsx` and check its columns.\n",
        "3. Import any JSON file and find its shape."
      ]
    },
    {
      "cell_type": "code",
      "execution_count": 28,
      "id": "9ddeae3b",
      "metadata": {
        "id": "9ddeae3b",
        "outputId": "0ff0c993-2da4-499e-cb3d-41adc3e5d152",
        "colab": {
          "base_uri": "https://localhost:8080/"
        }
      },
      "outputs": [
        {
          "output_type": "stream",
          "name": "stdout",
          "text": [
            "  StudentID       Name       City  Age  Score  JoinedDate  IsActive\n",
            "0      S001  Student_1       Pune   26  58.55  2024-01-01      True\n",
            "1      S002  Student_2    Kolkata   22  76.41  2024-01-02     False\n",
            "2      S003  Student_3    Kolkata   18  92.66  2024-01-03     False\n",
            "3      S004  Student_4  Bengaluru   22  58.34  2024-01-04     False\n",
            "4      S005  Student_5      Delhi   29  81.87  2024-01-05      True\n",
            "Index(['StudentID', 'Name', 'City', 'Age', 'Score', 'JoinedDate', 'IsActive',\n",
            "       'Unnamed: 7', 'Unnamed: 8', 'Unnamed: 9', 'Unnamed: 10', 'Unnamed: 11',\n",
            "       'Unnamed: 12', 'Unnamed: 13', 'Unnamed: 14', 'Unnamed: 15'],\n",
            "      dtype='object')\n",
            "(100, 7)\n"
          ]
        }
      ],
      "source": [
        "# Answer here\n",
        "import pandas as pd\n",
        "\n",
        "df = pd.read_csv('Sales.csv')\n",
        "df = df_csv.head()\n",
        "print(df)\n",
        "\n",
        "\n",
        "df = pd.read_excel('Data.xlsx')\n",
        "print(df.columns)\n",
        "\n",
        "\n",
        "df = pd.read_json('Student.json')\n",
        "print(df.shape)\n"
      ]
    },
    {
      "cell_type": "markdown",
      "id": "3b7b9584",
      "metadata": {
        "id": "3b7b9584"
      },
      "source": [
        "## 2. File Export using Pandas\n",
        "You can export data to different formats like CSV, Excel, and JSON."
      ]
    },
    {
      "cell_type": "code",
      "execution_count": null,
      "id": "d16eda12",
      "metadata": {
        "id": "d16eda12"
      },
      "outputs": [],
      "source": [
        "# Example: Exporting DataFrame to different formats\n",
        "df.to_csv('output.csv', index=False)\n",
        "df.to_excel('output.xlsx', index=False)\n",
        "df.to_json('output.json')"
      ]
    },
    {
      "cell_type": "markdown",
      "id": "fe8c3ce0",
      "metadata": {
        "id": "fe8c3ce0"
      },
      "source": [
        "### Practice Questions\n",
        "1. Export any given DataFrame to CSV format without index.\n",
        "2. Export the same DataFrame to Excel with the name 'Sheet1'.\n",
        "3. Export to JSON format with indentation."
      ]
    },
    {
      "cell_type": "code",
      "execution_count": 35,
      "id": "d47e324e",
      "metadata": {
        "id": "d47e324e"
      },
      "outputs": [],
      "source": [
        "# Answer here\n",
        "df.to_csv('Sales.csv', index=False)\n",
        "df.to_excel('Data.xlsx', sheet_name ='Sheet1',index = False)\n",
        "df.to_json('Student.json',indent=4)"
      ]
    },
    {
      "cell_type": "markdown",
      "id": "f1d3b073",
      "metadata": {
        "id": "f1d3b073"
      },
      "source": [
        "## 3. Creating Series and DataFrames"
      ]
    },
    {
      "cell_type": "code",
      "execution_count": null,
      "id": "b3fd56bb",
      "metadata": {
        "id": "b3fd56bb"
      },
      "outputs": [],
      "source": [
        "# Example: Creating Series and DataFrame\n",
        "series = pd.Series([10, 20, 30], name='Sales')\n",
        "data = {'Name': ['Amit', 'Riya', 'John'], 'Age': [22, 24, 26]}\n",
        "df = pd.DataFrame(data)\n",
        "print(series)\n",
        "print(df)"
      ]
    },
    {
      "cell_type": "markdown",
      "id": "0cea8700",
      "metadata": {
        "id": "0cea8700"
      },
      "source": [
        "### Practice Questions\n",
        "1. Create a Series of 5 numbers named 'Marks'.\n",
        "2. Create a DataFrame of 3 students with columns 'Name', 'Score', 'City'.\n",
        "3. Print shape, head, and describe of your DataFrame."
      ]
    },
    {
      "cell_type": "code",
      "execution_count": 30,
      "id": "d632d104",
      "metadata": {
        "id": "d632d104",
        "colab": {
          "base_uri": "https://localhost:8080/"
        },
        "outputId": "fd285b98-928a-46c5-f0b5-1b9db0869f70"
      },
      "outputs": [
        {
          "output_type": "stream",
          "name": "stdout",
          "text": [
            "0    10\n",
            "1    20\n",
            "2    30\n",
            "3    50\n",
            "4    55\n",
            "Name: Marks, dtype: int64\n",
            "   Name  Score    City\n",
            "0  Amit     80  Kanpur\n",
            "1  Riya     90   Delhi\n",
            "2  John     99  Meerut\n"
          ]
        }
      ],
      "source": [
        "# Answer here\n",
        "series = pd.Series([10, 20, 30,50,55], name='Marks')\n",
        "data = {'Name': ['Amit', 'Riya', 'John'], 'Score': [80, 90, 99],'City':['Kanpur','Delhi',\"Meerut\"]}\n",
        "df = pd.DataFrame(data)\n",
        "print(series)\n",
        "print(df)\n"
      ]
    },
    {
      "cell_type": "markdown",
      "id": "8f361dcd",
      "metadata": {
        "id": "8f361dcd"
      },
      "source": [
        "## 4. Indexing and Slicing in Pandas"
      ]
    },
    {
      "cell_type": "code",
      "execution_count": null,
      "id": "92a3a837",
      "metadata": {
        "id": "92a3a837"
      },
      "outputs": [],
      "source": [
        "# Example: Indexing and Slicing\n",
        "df['Name']\n",
        "df[['Name', 'Age']]\n",
        "df.iloc[0:2]\n",
        "df.loc[df['Age'] > 22]"
      ]
    },
    {
      "cell_type": "markdown",
      "id": "becaca7d",
      "metadata": {
        "id": "becaca7d"
      },
      "source": [
        "### Practice Questions\n",
        "1. Select only the 'Score' column from your DataFrame.\n",
        "2. Retrieve rows from index 1 to 3.\n",
        "3. Filter rows where 'Age' > 23."
      ]
    },
    {
      "cell_type": "code",
      "execution_count": 37,
      "id": "71a08a4c",
      "metadata": {
        "id": "71a08a4c",
        "colab": {
          "base_uri": "https://localhost:8080/"
        },
        "outputId": "37330cec-aae2-4d1d-d4cb-3b438a1b8e63"
      },
      "outputs": [
        {
          "output_type": "stream",
          "name": "stdout",
          "text": [
            "0    80\n",
            "1    90\n",
            "2    99\n",
            "Name: Score, dtype: int64\n",
            "   Name  Score    City\n",
            "1  Riya     90   Delhi\n",
            "2  John     99  Meerut\n"
          ]
        }
      ],
      "source": [
        "# Answer here\n",
        "print(df[\"Score\"])\n",
        "\n",
        "print(df.loc[1:3])\n",
        "\n",
        "print(df[df[\"Age\"] > 23])\n",
        "\n",
        "\n"
      ]
    },
    {
      "cell_type": "markdown",
      "id": "ed78de56",
      "metadata": {
        "id": "ed78de56"
      },
      "source": [
        "## 5. Merging and Concatenation"
      ]
    },
    {
      "cell_type": "code",
      "execution_count": null,
      "id": "7b819932",
      "metadata": {
        "id": "7b819932"
      },
      "outputs": [],
      "source": [
        "# Example: Merge and Concat\n",
        "df1 = pd.DataFrame({'ID': [1,2], 'Name': ['A', 'B']})\n",
        "df2 = pd.DataFrame({'ID': [1,2], 'Score': [85, 90]})\n",
        "merged = pd.merge(df1, df2, on='ID')\n",
        "print(merged)\n",
        "\n",
        "# Concat\n",
        "df3 = pd.concat([df1, df2], axis=0, ignore_index=True)"
      ]
    },
    {
      "cell_type": "markdown",
      "id": "42c8ef2d",
      "metadata": {
        "id": "42c8ef2d"
      },
      "source": [
        "### Practice Questions\n",
        "1. Merge two DataFrames 'students' and 'marks' on 'ID'.\n",
        "2. Perform left join between two given DataFrames.\n",
        "3. Concatenate two DataFrames vertically and reset the index."
      ]
    },
    {
      "cell_type": "code",
      "execution_count": 41,
      "id": "2f6726a4",
      "metadata": {
        "id": "2f6726a4",
        "colab": {
          "base_uri": "https://localhost:8080/"
        },
        "outputId": "5546bb34-8ecf-4527-daa8-887c1de97443"
      },
      "outputs": [
        {
          "output_type": "stream",
          "name": "stdout",
          "text": [
            "   ID    Name  Score\n",
            "0   1    Aman     85\n",
            "1   2  Bikash     90\n",
            "2   3  Yuvraj     89\n",
            "   ID    Name  Score\n",
            "0   1    Aman     85\n",
            "1   2  Bikash     90\n",
            "2   3  Yuvraj     89\n",
            "   ID    Name  Score\n",
            "0   1    Aman    NaN\n",
            "1   2  Bikash    NaN\n",
            "2   3  Yuvraj    NaN\n",
            "3   1     NaN   85.0\n",
            "4   2     NaN   90.0\n",
            "5   3     NaN   89.0\n"
          ]
        }
      ],
      "source": [
        "# Answer here\n",
        "df1 = pd.DataFrame({'ID': [1,2,3], 'Name': ['Aman', 'Bikash','Yuvraj']})\n",
        "df2 = pd.DataFrame({'ID': [1,2,3], 'Score': [85, 90,89]})\n",
        "merged = pd.merge(df1, df2, on='ID')\n",
        "print(merged)\n",
        "\n",
        "\n",
        "result = pd.merge(df1, df2, on='ID', how='left')\n",
        "print(result)\n",
        "\n",
        "df3 = pd.concat([df1, df2], axis=0, ignore_index=True)\n",
        "print(df3)\n"
      ]
    },
    {
      "cell_type": "markdown",
      "id": "727cdac8",
      "metadata": {
        "id": "727cdac8"
      },
      "source": [
        "## 6. Pivot Tables and GroupBy"
      ]
    },
    {
      "cell_type": "code",
      "execution_count": null,
      "id": "4397e068",
      "metadata": {
        "id": "4397e068"
      },
      "outputs": [],
      "source": [
        "# Example: Pivot and GroupBy\n",
        "df = pd.DataFrame({'Region': ['North', 'South', 'North'], 'Month': ['Jan', 'Jan', 'Feb'], 'Sales': [250, 300, 400]})\n",
        "\n",
        "pivot = df.pivot_table(values='Sales', index='Region', columns='Month', aggfunc='sum', fill_value=0)\n",
        "grouped = df.groupby('Region')['Sales'].sum()\n",
        "print(pivot)\n",
        "print(grouped)"
      ]
    },
    {
      "cell_type": "markdown",
      "id": "30b1a564",
      "metadata": {
        "id": "30b1a564"
      },
      "source": [
        "### Practice Questions\n",
        "1. Group the DataFrame by 'Month' and find total sales.\n",
        "2. Create a pivot table to show Region-wise total sales.\n",
        "3. Group data by 'Region' and count number of entries."
      ]
    },
    {
      "cell_type": "code",
      "execution_count": 43,
      "id": "c1aff9c7",
      "metadata": {
        "id": "c1aff9c7",
        "colab": {
          "base_uri": "https://localhost:8080/"
        },
        "outputId": "995e4075-3dd6-4d56-fa74-a04529e37df4"
      },
      "outputs": [
        {
          "output_type": "stream",
          "name": "stdout",
          "text": [
            "Month\n",
            "Feb    400\n",
            "Jan    550\n",
            "Name: Sales, dtype: int64\n",
            "Month   Feb  Jan\n",
            "Region          \n",
            "North   400  250\n",
            "South     0  300\n",
            "Region\n",
            "North    2\n",
            "South    1\n",
            "dtype: int64\n"
          ]
        }
      ],
      "source": [
        "# Answer here\n",
        "df = pd.DataFrame({'Region': ['North', 'South', 'North'], 'Month': ['Jan', 'Jan', 'Feb'], 'Sales': [250, 300, 400]})\n",
        "\n",
        "pivot = df.pivot_table(values='Sales', index='Region', columns='Month', aggfunc='sum', fill_value=0)\n",
        "\n",
        "grouped = df.groupby('Month')['Sales'].sum()\n",
        "\n",
        "region_count = df.groupby('Region').size()\n",
        "\n",
        "\n",
        "print(grouped)\n",
        "print(pivot)\n",
        "print(region_count)\n"
      ]
    },
    {
      "cell_type": "markdown",
      "id": "9fe2add6",
      "metadata": {
        "id": "9fe2add6"
      },
      "source": [
        "## Optional Practice (Medium Level)\n",
        "These questions test your overall understanding of Pandas."
      ]
    },
    {
      "cell_type": "markdown",
      "id": "b68b2455",
      "metadata": {
        "id": "b68b2455"
      },
      "source": [
        "1. Import a dataset and clean all missing values, rename columns properly, and export it back to Excel.\n",
        "\n",
        "Dataset- https://drive.google.com/file/d/1kw_Sdib3WCo_acQYA851poCUdKcWgfYs/view?usp=sharing"
      ]
    },
    {
      "cell_type": "code",
      "execution_count": null,
      "id": "54ffdb1e",
      "metadata": {
        "id": "54ffdb1e"
      },
      "outputs": [],
      "source": [
        "# Answer here\n"
      ]
    },
    {
      "cell_type": "markdown",
      "id": "64cef174",
      "metadata": {
        "id": "64cef174"
      },
      "source": [
        "2. Combine multiple CSV files from a folder into one DataFrame and find top 5 entries by a numeric column like 'Sales'.\n",
        "\n",
        "Dataset- https://drive.google.com/drive/folders/1zgJs_6r8Aa_-93YXmYXfxOK5L4hVUI9Q?usp=sharing"
      ]
    },
    {
      "cell_type": "code",
      "execution_count": null,
      "id": "134e1bba",
      "metadata": {
        "id": "134e1bba"
      },
      "outputs": [],
      "source": [
        "# Answer here"
      ]
    }
  ],
  "metadata": {
    "language_info": {
      "name": "python"
    },
    "colab": {
      "provenance": []
    },
    "kernelspec": {
      "name": "python3",
      "display_name": "Python 3"
    }
  },
  "nbformat": 4,
  "nbformat_minor": 5
}